{
 "cells": [
  {
   "cell_type": "code",
   "execution_count": 6,
   "outputs": [],
   "source": [
    "import pika "
   ],
   "metadata": {
    "collapsed": false,
    "ExecuteTime": {
     "end_time": "2023-09-04T04:27:37.177485900Z",
     "start_time": "2023-09-04T04:27:37.170478200Z"
    }
   },
   "id": "d17cb15337fbba5b"
  },
  {
   "cell_type": "code",
   "execution_count": 7,
   "outputs": [],
   "source": [
    "connection = pika.BlockingConnection(pika.ConnectionParameters('localhost'))\n",
    "channel = connection.channel()"
   ],
   "metadata": {
    "collapsed": false,
    "ExecuteTime": {
     "end_time": "2023-09-04T04:27:37.678052800Z",
     "start_time": "2023-09-04T04:27:37.648251900Z"
    }
   },
   "id": "ed1fb434c45b6746"
  },
  {
   "cell_type": "code",
   "execution_count": 8,
   "outputs": [
    {
     "data": {
      "text/plain": "<METHOD(['channel_number=1', 'frame_type=1', 'method=<Exchange.DeclareOk>'])>"
     },
     "execution_count": 8,
     "metadata": {},
     "output_type": "execute_result"
    }
   ],
   "source": [
    "channel.exchange_declare(exchange='pc', exchange_type='topic', durable=True)"
   ],
   "metadata": {
    "collapsed": false,
    "ExecuteTime": {
     "end_time": "2023-09-04T04:27:38.934676600Z",
     "start_time": "2023-09-04T04:27:38.926902500Z"
    }
   },
   "id": "908cb0cdbfb28bc2"
  },
  {
   "cell_type": "code",
   "execution_count": 9,
   "outputs": [
    {
     "data": {
      "text/plain": "<METHOD(['channel_number=1', 'frame_type=1', 'method=<Queue.BindOk>'])>"
     },
     "execution_count": 9,
     "metadata": {},
     "output_type": "execute_result"
    }
   ],
   "source": [
    "channel.queue_declare(queue='cliente_1', durable=True)\n",
    "channel.queue_declare(queue='cliente_2', durable=True)\n",
    "channel.queue_declare(queue='cliente_3', durable=True)\n",
    "\n",
    "channel.queue_bind(exchange='pc', queue='cliente_1', routing_key='cpu')\n",
    "channel.queue_bind(exchange='pc', queue='cliente_2', routing_key='ram')\n",
    "channel.queue_bind(exchange='pc', queue='cliente_3', routing_key='cpu')\n",
    "channel.queue_bind(exchange='pc', queue='cliente_3', routing_key='ram')"
   ],
   "metadata": {
    "collapsed": false,
    "ExecuteTime": {
     "end_time": "2023-09-04T04:27:43.378657Z",
     "start_time": "2023-09-04T04:27:43.357196600Z"
    }
   },
   "id": "ed817e4e10cd25a1"
  },
  {
   "cell_type": "code",
   "execution_count": null,
   "outputs": [],
   "source": [],
   "metadata": {
    "collapsed": false
   },
   "id": "f6e0e388ef07a08f"
  }
 ],
 "metadata": {
  "kernelspec": {
   "display_name": "Python 3",
   "language": "python",
   "name": "python3"
  },
  "language_info": {
   "codemirror_mode": {
    "name": "ipython",
    "version": 2
   },
   "file_extension": ".py",
   "mimetype": "text/x-python",
   "name": "python",
   "nbconvert_exporter": "python",
   "pygments_lexer": "ipython2",
   "version": "2.7.6"
  }
 },
 "nbformat": 4,
 "nbformat_minor": 5
}
