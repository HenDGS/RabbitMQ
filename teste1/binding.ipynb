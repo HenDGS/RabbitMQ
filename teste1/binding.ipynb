{
 "cells": [
  {
   "cell_type": "code",
   "execution_count": 4,
   "id": "initial_id",
   "metadata": {
    "collapsed": true,
    "ExecuteTime": {
     "end_time": "2023-09-03T02:51:37.557630300Z",
     "start_time": "2023-09-03T02:51:37.542570400Z"
    }
   },
   "outputs": [
    {
     "data": {
      "text/plain": "<METHOD(['channel_number=1', 'frame_type=1', 'method=<Queue.BindOk>'])>"
     },
     "execution_count": 4,
     "metadata": {},
     "output_type": "execute_result"
    }
   ],
   "source": [
    "# bind queue 'client1' to exchange 'cpu'\n",
    "import pika\n",
    "\n",
    "connection = pika.BlockingConnection(pika.ConnectionParameters(host='localhost'))\n",
    "channel = connection.channel()\n",
    "\n",
    "channel.queue_bind(exchange='cpu', queue='cliente_1')"
   ]
  },
  {
   "cell_type": "code",
   "execution_count": 3,
   "outputs": [
    {
     "data": {
      "text/plain": "<METHOD(['channel_number=1', 'frame_type=1', 'method=<Queue.UnbindOk>'])>"
     },
     "execution_count": 3,
     "metadata": {},
     "output_type": "execute_result"
    }
   ],
   "source": [
    "# unbind\n",
    "import pika\n",
    "\n",
    "connection = pika.BlockingConnection(pika.ConnectionParameters(host='localhost'))\n",
    "channel = connection.channel()\n",
    "\n",
    "channel.queue_unbind(exchange='cpu', queue='cliente_1')"
   ],
   "metadata": {
    "collapsed": false,
    "ExecuteTime": {
     "end_time": "2023-09-03T02:51:13.605578600Z",
     "start_time": "2023-09-03T02:51:13.591109900Z"
    }
   },
   "id": "d81aac5aa3962beb"
  },
  {
   "cell_type": "code",
   "execution_count": null,
   "outputs": [],
   "source": [],
   "metadata": {
    "collapsed": false
   },
   "id": "d17cb15337fbba5b"
  }
 ],
 "metadata": {
  "kernelspec": {
   "display_name": "Python 3",
   "language": "python",
   "name": "python3"
  },
  "language_info": {
   "codemirror_mode": {
    "name": "ipython",
    "version": 2
   },
   "file_extension": ".py",
   "mimetype": "text/x-python",
   "name": "python",
   "nbconvert_exporter": "python",
   "pygments_lexer": "ipython2",
   "version": "2.7.6"
  }
 },
 "nbformat": 4,
 "nbformat_minor": 5
}
