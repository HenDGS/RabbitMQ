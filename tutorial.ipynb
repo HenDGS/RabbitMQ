{
 "cells": [
  {
   "cell_type": "code",
   "execution_count": 13,
   "id": "initial_id",
   "metadata": {
    "collapsed": true,
    "ExecuteTime": {
     "end_time": "2023-09-02T21:31:53.512162200Z",
     "start_time": "2023-09-02T21:31:53.500113700Z"
    }
   },
   "outputs": [],
   "source": [
    "# Estabelece conexão com o RabbitMQ e cria um canal de comunicação\n",
    "import pika\n",
    "\n",
    "connection = pika.BlockingConnection(pika.ConnectionParameters('localhost'))\n",
    "channel = connection.channel()"
   ]
  },
  {
   "cell_type": "code",
   "execution_count": 7,
   "outputs": [
    {
     "data": {
      "text/plain": "<METHOD(['channel_number=1', 'frame_type=1', \"method=<Queue.DeclareOk(['consumer_count=0', 'message_count=1', 'queue=hello'])>\"])>"
     },
     "execution_count": 7,
     "metadata": {},
     "output_type": "execute_result"
    }
   ],
   "source": [
    "# Cria uma fila chamada 'hello'\n",
    "channel.queue_declare(queue='hello')"
   ],
   "metadata": {
    "collapsed": false,
    "ExecuteTime": {
     "end_time": "2023-09-02T21:31:45.572676300Z",
     "start_time": "2023-09-02T21:31:45.539983200Z"
    }
   },
   "id": "cf4d6d768f5e20ca"
  },
  {
   "cell_type": "code",
   "execution_count": 8,
   "outputs": [
    {
     "name": "stdout",
     "output_type": "stream",
     "text": [
      " [x] Sent 'Hello World!'\n"
     ]
    }
   ],
   "source": [
    "# Publica uma mensagem na fila 'hello'\n",
    "channel.basic_publish(exchange='',\n",
    "                      routing_key='hello',\n",
    "                      body='Hello World!')\n",
    "print(\" [x] Sent 'Hello World!'\")"
   ],
   "metadata": {
    "collapsed": false,
    "ExecuteTime": {
     "end_time": "2023-09-02T21:31:45.595288900Z",
     "start_time": "2023-09-02T21:31:45.546197700Z"
    }
   },
   "id": "5c0c14560bc5ff86"
  },
  {
   "cell_type": "code",
   "execution_count": 9,
   "outputs": [],
   "source": [
    "# Fecha a conexão com o RabbitMQ\n",
    "connection.close()"
   ],
   "metadata": {
    "collapsed": false,
    "ExecuteTime": {
     "end_time": "2023-09-02T21:31:45.595288900Z",
     "start_time": "2023-09-02T21:31:45.550742500Z"
    }
   },
   "id": "961f751347590b3"
  },
  {
   "cell_type": "markdown",
   "source": [
    "# Recebendo Mensagens"
   ],
   "metadata": {
    "collapsed": false
   },
   "id": "238f44cb33f80c0d"
  },
  {
   "cell_type": "code",
   "execution_count": 14,
   "outputs": [
    {
     "data": {
      "text/plain": "<METHOD(['channel_number=1', 'frame_type=1', \"method=<Queue.DeclareOk(['consumer_count=0', 'message_count=2', 'queue=hello'])>\"])>"
     },
     "execution_count": 14,
     "metadata": {},
     "output_type": "execute_result"
    }
   ],
   "source": [
    "# Reestabelece conexão com o RabbitMQ e cria um canal de comunicação\n",
    "channel.queue_declare(queue='hello')"
   ],
   "metadata": {
    "collapsed": false,
    "ExecuteTime": {
     "end_time": "2023-09-02T21:31:55.499407900Z",
     "start_time": "2023-09-02T21:31:55.489331500Z"
    }
   },
   "id": "392aaa37b911c783"
  },
  {
   "cell_type": "code",
   "execution_count": 15,
   "outputs": [
    {
     "name": "stdout",
     "output_type": "stream",
     "text": [
      "<Basic.GetOk(['delivery_tag=1', 'exchange=', 'message_count=1', 'redelivered=False', 'routing_key=hello'])> <BasicProperties> b'Hello World!'\n",
      "1\n"
     ]
    }
   ],
   "source": [
    "# Lista quantas mensagens existem na fila 'hello'\n",
    "method_frame, header_frame, body = channel.basic_get(queue='hello')\n",
    "if method_frame:\n",
    "    print(method_frame, header_frame, body)\n",
    "    print(method_frame.delivery_tag)\n",
    "    channel.basic_ack(delivery_tag=method_frame.delivery_tag)\n",
    "else:\n",
    "    print('No message returned')"
   ],
   "metadata": {
    "collapsed": false,
    "ExecuteTime": {
     "end_time": "2023-09-02T21:31:55.757596900Z",
     "start_time": "2023-09-02T21:31:55.744596Z"
    }
   },
   "id": "38cb3f60d72eafc1"
  },
  {
   "cell_type": "code",
   "execution_count": 16,
   "outputs": [],
   "source": [
    "# Cria uma função de callback para receber mensagens\n",
    "def callback(ch, method, properties, body):\n",
    "    print(f\" [x] Received {body}\")"
   ],
   "metadata": {
    "collapsed": false,
    "ExecuteTime": {
     "end_time": "2023-09-02T21:31:56.331025400Z",
     "start_time": "2023-09-02T21:31:56.306436700Z"
    }
   },
   "id": "f3a20287030ed9e5"
  },
  {
   "cell_type": "code",
   "execution_count": 17,
   "outputs": [
    {
     "data": {
      "text/plain": "'ctag1.61c53c6c218f47658e3a281543f9dde4'"
     },
     "execution_count": 17,
     "metadata": {},
     "output_type": "execute_result"
    }
   ],
   "source": [
    "# Cria um consumidor para receber mensagens da fila 'hello'\n",
    "channel.basic_consume(queue='hello',\n",
    "                      auto_ack=True,\n",
    "                      on_message_callback=callback)"
   ],
   "metadata": {
    "collapsed": false,
    "ExecuteTime": {
     "end_time": "2023-09-02T21:31:56.683124100Z",
     "start_time": "2023-09-02T21:31:56.655837300Z"
    }
   },
   "id": "95ea3f04becd64ff"
  },
  {
   "cell_type": "code",
   "execution_count": 18,
   "outputs": [
    {
     "name": "stdout",
     "output_type": "stream",
     "text": [
      " [*] Waiting for messages. To exit press CTRL+C\n",
      " [x] Received b'Hello World!'\n"
     ]
    },
    {
     "ename": "KeyboardInterrupt",
     "evalue": "",
     "output_type": "error",
     "traceback": [
      "\u001B[1;31m---------------------------------------------------------------------------\u001B[0m",
      "\u001B[1;31mKeyboardInterrupt\u001B[0m                         Traceback (most recent call last)",
      "Cell \u001B[1;32mIn[18], line 3\u001B[0m\n\u001B[0;32m      1\u001B[0m \u001B[38;5;66;03m# Inicia o consumo de mensagens\u001B[39;00m\n\u001B[0;32m      2\u001B[0m \u001B[38;5;28mprint\u001B[39m(\u001B[38;5;124m'\u001B[39m\u001B[38;5;124m [*] Waiting for messages. To exit press CTRL+C\u001B[39m\u001B[38;5;124m'\u001B[39m)\n\u001B[1;32m----> 3\u001B[0m \u001B[43mchannel\u001B[49m\u001B[38;5;241;43m.\u001B[39;49m\u001B[43mstart_consuming\u001B[49m\u001B[43m(\u001B[49m\u001B[43m)\u001B[49m\n",
      "File \u001B[1;32m~\\PycharmProjects\\RabbitMQ\\venv\\Lib\\site-packages\\pika\\adapters\\blocking_connection.py:1883\u001B[0m, in \u001B[0;36mBlockingChannel.start_consuming\u001B[1;34m(self)\u001B[0m\n\u001B[0;32m   1880\u001B[0m \u001B[38;5;66;03m# Process events as long as consumers exist on this channel\u001B[39;00m\n\u001B[0;32m   1881\u001B[0m \u001B[38;5;28;01mwhile\u001B[39;00m \u001B[38;5;28mself\u001B[39m\u001B[38;5;241m.\u001B[39m_consumer_infos:\n\u001B[0;32m   1882\u001B[0m     \u001B[38;5;66;03m# This will raise ChannelClosed if channel is closed by broker\u001B[39;00m\n\u001B[1;32m-> 1883\u001B[0m     \u001B[38;5;28;43mself\u001B[39;49m\u001B[38;5;241;43m.\u001B[39;49m\u001B[43m_process_data_events\u001B[49m\u001B[43m(\u001B[49m\u001B[43mtime_limit\u001B[49m\u001B[38;5;241;43m=\u001B[39;49m\u001B[38;5;28;43;01mNone\u001B[39;49;00m\u001B[43m)\u001B[49m\n",
      "File \u001B[1;32m~\\PycharmProjects\\RabbitMQ\\venv\\Lib\\site-packages\\pika\\adapters\\blocking_connection.py:2044\u001B[0m, in \u001B[0;36mBlockingChannel._process_data_events\u001B[1;34m(self, time_limit)\u001B[0m\n\u001B[0;32m   2025\u001B[0m \u001B[38;5;28;01mdef\u001B[39;00m \u001B[38;5;21m_process_data_events\u001B[39m(\u001B[38;5;28mself\u001B[39m, time_limit):\n\u001B[0;32m   2026\u001B[0m \u001B[38;5;250m    \u001B[39m\u001B[38;5;124;03m\"\"\"Wrapper for `BlockingConnection.process_data_events()` with common\u001B[39;00m\n\u001B[0;32m   2027\u001B[0m \u001B[38;5;124;03m    channel-specific logic that raises ChannelClosed if broker closed this\u001B[39;00m\n\u001B[0;32m   2028\u001B[0m \u001B[38;5;124;03m    channel.\u001B[39;00m\n\u001B[1;32m   (...)\u001B[0m\n\u001B[0;32m   2042\u001B[0m \n\u001B[0;32m   2043\u001B[0m \u001B[38;5;124;03m    \"\"\"\u001B[39;00m\n\u001B[1;32m-> 2044\u001B[0m     \u001B[38;5;28;43mself\u001B[39;49m\u001B[38;5;241;43m.\u001B[39;49m\u001B[43mconnection\u001B[49m\u001B[38;5;241;43m.\u001B[39;49m\u001B[43mprocess_data_events\u001B[49m\u001B[43m(\u001B[49m\u001B[43mtime_limit\u001B[49m\u001B[38;5;241;43m=\u001B[39;49m\u001B[43mtime_limit\u001B[49m\u001B[43m)\u001B[49m\n\u001B[0;32m   2045\u001B[0m     \u001B[38;5;28;01mif\u001B[39;00m \u001B[38;5;28mself\u001B[39m\u001B[38;5;241m.\u001B[39mis_closed \u001B[38;5;129;01mand\u001B[39;00m \u001B[38;5;28misinstance\u001B[39m(\u001B[38;5;28mself\u001B[39m\u001B[38;5;241m.\u001B[39m_closing_reason,\n\u001B[0;32m   2046\u001B[0m                                      exceptions\u001B[38;5;241m.\u001B[39mChannelClosedByBroker):\n\u001B[0;32m   2047\u001B[0m         LOGGER\u001B[38;5;241m.\u001B[39mdebug(\u001B[38;5;124m'\u001B[39m\u001B[38;5;124mChannel close by broker detected, raising \u001B[39m\u001B[38;5;132;01m%r\u001B[39;00m\u001B[38;5;124m; \u001B[39m\u001B[38;5;132;01m%r\u001B[39;00m\u001B[38;5;124m'\u001B[39m,\n\u001B[0;32m   2048\u001B[0m                      \u001B[38;5;28mself\u001B[39m\u001B[38;5;241m.\u001B[39m_closing_reason, \u001B[38;5;28mself\u001B[39m)\n",
      "File \u001B[1;32m~\\PycharmProjects\\RabbitMQ\\venv\\Lib\\site-packages\\pika\\adapters\\blocking_connection.py:842\u001B[0m, in \u001B[0;36mBlockingConnection.process_data_events\u001B[1;34m(self, time_limit)\u001B[0m\n\u001B[0;32m    838\u001B[0m common_terminator \u001B[38;5;241m=\u001B[39m \u001B[38;5;28;01mlambda\u001B[39;00m: \u001B[38;5;28mbool\u001B[39m(dispatch_acquired \u001B[38;5;129;01mand\u001B[39;00m\n\u001B[0;32m    839\u001B[0m                                  (\u001B[38;5;28mself\u001B[39m\u001B[38;5;241m.\u001B[39m_channels_pending_dispatch \u001B[38;5;129;01mor\u001B[39;00m\n\u001B[0;32m    840\u001B[0m                                   \u001B[38;5;28mself\u001B[39m\u001B[38;5;241m.\u001B[39m_ready_events))\n\u001B[0;32m    841\u001B[0m \u001B[38;5;28;01mif\u001B[39;00m time_limit \u001B[38;5;129;01mis\u001B[39;00m \u001B[38;5;28;01mNone\u001B[39;00m:\n\u001B[1;32m--> 842\u001B[0m     \u001B[38;5;28;43mself\u001B[39;49m\u001B[38;5;241;43m.\u001B[39;49m\u001B[43m_flush_output\u001B[49m\u001B[43m(\u001B[49m\u001B[43mcommon_terminator\u001B[49m\u001B[43m)\u001B[49m\n\u001B[0;32m    843\u001B[0m \u001B[38;5;28;01melse\u001B[39;00m:\n\u001B[0;32m    844\u001B[0m     \u001B[38;5;28;01mwith\u001B[39;00m _IoloopTimerContext(time_limit, \u001B[38;5;28mself\u001B[39m\u001B[38;5;241m.\u001B[39m_impl) \u001B[38;5;28;01mas\u001B[39;00m timer:\n",
      "File \u001B[1;32m~\\PycharmProjects\\RabbitMQ\\venv\\Lib\\site-packages\\pika\\adapters\\blocking_connection.py:514\u001B[0m, in \u001B[0;36mBlockingConnection._flush_output\u001B[1;34m(self, *waiters)\u001B[0m\n\u001B[0;32m    512\u001B[0m \u001B[38;5;66;03m# Process I/O until our completion condition is satisfied\u001B[39;00m\n\u001B[0;32m    513\u001B[0m \u001B[38;5;28;01mwhile\u001B[39;00m \u001B[38;5;129;01mnot\u001B[39;00m is_done():\n\u001B[1;32m--> 514\u001B[0m     \u001B[38;5;28;43mself\u001B[39;49m\u001B[38;5;241;43m.\u001B[39;49m\u001B[43m_impl\u001B[49m\u001B[38;5;241;43m.\u001B[39;49m\u001B[43mioloop\u001B[49m\u001B[38;5;241;43m.\u001B[39;49m\u001B[43mpoll\u001B[49m\u001B[43m(\u001B[49m\u001B[43m)\u001B[49m\n\u001B[0;32m    515\u001B[0m     \u001B[38;5;28mself\u001B[39m\u001B[38;5;241m.\u001B[39m_impl\u001B[38;5;241m.\u001B[39mioloop\u001B[38;5;241m.\u001B[39mprocess_timeouts()\n\u001B[0;32m    517\u001B[0m \u001B[38;5;28;01mif\u001B[39;00m \u001B[38;5;28mself\u001B[39m\u001B[38;5;241m.\u001B[39m_closed_result\u001B[38;5;241m.\u001B[39mready:\n",
      "File \u001B[1;32m~\\PycharmProjects\\RabbitMQ\\venv\\Lib\\site-packages\\pika\\adapters\\select_connection.py:579\u001B[0m, in \u001B[0;36mIOLoop.poll\u001B[1;34m(self)\u001B[0m\n\u001B[0;32m    572\u001B[0m \u001B[38;5;28;01mdef\u001B[39;00m \u001B[38;5;21mpoll\u001B[39m(\u001B[38;5;28mself\u001B[39m):\n\u001B[0;32m    573\u001B[0m \u001B[38;5;250m    \u001B[39m\u001B[38;5;124;03m\"\"\"[Extension] Wait for events of interest on registered file\u001B[39;00m\n\u001B[0;32m    574\u001B[0m \u001B[38;5;124;03m    descriptors until an event of interest occurs or next timer deadline or\u001B[39;00m\n\u001B[0;32m    575\u001B[0m \u001B[38;5;124;03m    `_PollerBase._MAX_POLL_TIMEOUT`, whichever is sooner, and dispatch the\u001B[39;00m\n\u001B[0;32m    576\u001B[0m \u001B[38;5;124;03m    corresponding event handlers.\u001B[39;00m\n\u001B[0;32m    577\u001B[0m \n\u001B[0;32m    578\u001B[0m \u001B[38;5;124;03m    \"\"\"\u001B[39;00m\n\u001B[1;32m--> 579\u001B[0m     \u001B[38;5;28;43mself\u001B[39;49m\u001B[38;5;241;43m.\u001B[39;49m\u001B[43m_poller\u001B[49m\u001B[38;5;241;43m.\u001B[39;49m\u001B[43mpoll\u001B[49m\u001B[43m(\u001B[49m\u001B[43m)\u001B[49m\n",
      "File \u001B[1;32m~\\PycharmProjects\\RabbitMQ\\venv\\Lib\\site-packages\\pika\\adapters\\select_connection.py:953\u001B[0m, in \u001B[0;36mSelectPoller.poll\u001B[1;34m(self)\u001B[0m\n\u001B[0;32m    949\u001B[0m \u001B[38;5;28;01mtry\u001B[39;00m:\n\u001B[0;32m    950\u001B[0m     \u001B[38;5;28;01mif\u001B[39;00m (\u001B[38;5;28mself\u001B[39m\u001B[38;5;241m.\u001B[39m_fd_events[PollEvents\u001B[38;5;241m.\u001B[39mREAD] \u001B[38;5;129;01mor\u001B[39;00m\n\u001B[0;32m    951\u001B[0m             \u001B[38;5;28mself\u001B[39m\u001B[38;5;241m.\u001B[39m_fd_events[PollEvents\u001B[38;5;241m.\u001B[39mWRITE] \u001B[38;5;129;01mor\u001B[39;00m\n\u001B[0;32m    952\u001B[0m             \u001B[38;5;28mself\u001B[39m\u001B[38;5;241m.\u001B[39m_fd_events[PollEvents\u001B[38;5;241m.\u001B[39mERROR]):\n\u001B[1;32m--> 953\u001B[0m         read, write, error \u001B[38;5;241m=\u001B[39m select\u001B[38;5;241m.\u001B[39mselect(\n\u001B[0;32m    954\u001B[0m             \u001B[38;5;28mself\u001B[39m\u001B[38;5;241m.\u001B[39m_fd_events[PollEvents\u001B[38;5;241m.\u001B[39mREAD],\n\u001B[0;32m    955\u001B[0m             \u001B[38;5;28mself\u001B[39m\u001B[38;5;241m.\u001B[39m_fd_events[PollEvents\u001B[38;5;241m.\u001B[39mWRITE],\n\u001B[0;32m    956\u001B[0m             \u001B[38;5;28mself\u001B[39m\u001B[38;5;241m.\u001B[39m_fd_events[PollEvents\u001B[38;5;241m.\u001B[39mERROR], \u001B[38;5;28mself\u001B[39m\u001B[38;5;241m.\u001B[39m_get_max_wait())\n\u001B[0;32m    957\u001B[0m     \u001B[38;5;28;01melse\u001B[39;00m:\n\u001B[0;32m    958\u001B[0m         \u001B[38;5;66;03m# NOTE When called without any FDs, select fails on\u001B[39;00m\n\u001B[0;32m    959\u001B[0m         \u001B[38;5;66;03m# Windows with error 10022, 'An invalid argument was\u001B[39;00m\n\u001B[0;32m    960\u001B[0m         \u001B[38;5;66;03m# supplied'.\u001B[39;00m\n\u001B[0;32m    961\u001B[0m         time\u001B[38;5;241m.\u001B[39msleep(\u001B[38;5;28mself\u001B[39m\u001B[38;5;241m.\u001B[39m_get_max_wait())\n",
      "\u001B[1;31mKeyboardInterrupt\u001B[0m: "
     ]
    }
   ],
   "source": [
    "# Inicia o consumo de mensagens\n",
    "print(' [*] Waiting for messages. To exit press CTRL+C')\n",
    "channel.start_consuming()"
   ],
   "metadata": {
    "collapsed": false,
    "ExecuteTime": {
     "end_time": "2023-09-02T21:34:33.625529100Z",
     "start_time": "2023-09-02T21:31:57.280247900Z"
    }
   },
   "id": "b400c9f1d37ad72f"
  },
  {
   "cell_type": "code",
   "execution_count": null,
   "outputs": [],
   "source": [],
   "metadata": {
    "collapsed": false
   },
   "id": "d1e784a9e2701a50"
  }
 ],
 "metadata": {
  "kernelspec": {
   "display_name": "Python 3",
   "language": "python",
   "name": "python3"
  },
  "language_info": {
   "codemirror_mode": {
    "name": "ipython",
    "version": 2
   },
   "file_extension": ".py",
   "mimetype": "text/x-python",
   "name": "python",
   "nbconvert_exporter": "python",
   "pygments_lexer": "ipython2",
   "version": "2.7.6"
  }
 },
 "nbformat": 4,
 "nbformat_minor": 5
}
